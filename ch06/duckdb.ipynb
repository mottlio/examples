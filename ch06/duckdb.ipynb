{
 "cells": [
  {
   "cell_type": "code",
   "execution_count": 2,
   "metadata": {},
   "outputs": [],
   "source": [
    "import duckdb"
   ]
  },
  {
   "cell_type": "code",
   "execution_count": 3,
   "metadata": {},
   "outputs": [
    {
     "data": {
      "text/plain": [
       "'1.2.1'"
      ]
     },
     "execution_count": 3,
     "metadata": {},
     "output_type": "execute_result"
    }
   ],
   "source": [
    "duckdb.__version__"
   ]
  },
  {
   "cell_type": "code",
   "execution_count": 4,
   "metadata": {},
   "outputs": [
    {
     "name": "stdout",
     "output_type": "stream",
     "text": [
      "┌───────┐\n",
      "│   3   │\n",
      "│ int32 │\n",
      "├───────┤\n",
      "│     3 │\n",
      "└───────┘\n",
      "\n"
     ]
    }
   ],
   "source": [
    "result = duckdb.sql('SELECT 3')\n",
    "result.show()"
   ]
  },
  {
   "cell_type": "code",
   "execution_count": 5,
   "metadata": {},
   "outputs": [
    {
     "name": "stdout",
     "output_type": "stream",
     "text": [
      "┌───────┬─────────┐\n",
      "│   a   │    b    │\n",
      "│ int32 │ varchar │\n",
      "├───────┼─────────┤\n",
      "│     1 │ foo     │\n",
      "│     2 │ bar     │\n",
      "└───────┴─────────┘\n",
      "\n"
     ]
    }
   ],
   "source": [
    "con = duckdb.connect(database=':memory:')\n",
    "con.execute('CREATE TABLE test (a INTEGER, b VARCHAR)')\n",
    "con.execute(\"INSERT INTO test VALUES (1, 'foo')\")\n",
    "con.execute(\"INSERT INTO test VALUES (2, 'bar')\")\n",
    "result = con.sql(\"SELECT * FROM test\")\n",
    "result.show()"
   ]
  },
  {
   "cell_type": "code",
   "execution_count": 6,
   "metadata": {},
   "outputs": [
    {
     "data": {
      "text/plain": [
       "<duckdb.duckdb.DuckDBPyConnection at 0x111d99830>"
      ]
     },
     "execution_count": 6,
     "metadata": {},
     "output_type": "execute_result"
    }
   ],
   "source": [
    "con.execute(\"INSTALL httpfs\")"
   ]
  },
  {
   "cell_type": "code",
   "execution_count": 7,
   "metadata": {},
   "outputs": [
    {
     "data": {
      "text/plain": [
       "<duckdb.duckdb.DuckDBPyConnection at 0x111d99830>"
      ]
     },
     "execution_count": 7,
     "metadata": {},
     "output_type": "execute_result"
    }
   ],
   "source": [
    "con.execute(\"LOAD httpfs\")"
   ]
  },
  {
   "cell_type": "code",
   "execution_count": 8,
   "metadata": {},
   "outputs": [],
   "source": [
    "population = con.read_csv(\"https://bit.ly/3KoiZR0\")"
   ]
  },
  {
   "cell_type": "code",
   "execution_count": 9,
   "metadata": {},
   "outputs": [
    {
     "data": {
      "text/plain": [
       "duckdb.duckdb.DuckDBPyRelation"
      ]
     },
     "execution_count": 9,
     "metadata": {},
     "output_type": "execute_result"
    }
   ],
   "source": [
    "type(population)"
   ]
  },
  {
   "cell_type": "code",
   "execution_count": 10,
   "metadata": {},
   "outputs": [
    {
     "data": {
      "text/plain": [
       "[('Afghanistan ',\n",
       "  'ASIA (EX. NEAR EAST)         ',\n",
       "  31056997,\n",
       "  647500,\n",
       "  '48,0',\n",
       "  '0,00',\n",
       "  '23,06',\n",
       "  '163,07',\n",
       "  700,\n",
       "  '36,0',\n",
       "  '3,2',\n",
       "  '12,13',\n",
       "  '0,22',\n",
       "  '87,65',\n",
       "  '1',\n",
       "  '46,6',\n",
       "  '20,34',\n",
       "  '0,38',\n",
       "  '0,24',\n",
       "  '0,38'),\n",
       " ('Albania ',\n",
       "  'EASTERN EUROPE                     ',\n",
       "  3581655,\n",
       "  28748,\n",
       "  '124,6',\n",
       "  '1,26',\n",
       "  '-4,93',\n",
       "  '21,52',\n",
       "  4500,\n",
       "  '86,5',\n",
       "  '71,2',\n",
       "  '21,09',\n",
       "  '4,42',\n",
       "  '74,49',\n",
       "  '3',\n",
       "  '15,11',\n",
       "  '5,22',\n",
       "  '0,232',\n",
       "  '0,188',\n",
       "  '0,579')]"
      ]
     },
     "execution_count": 10,
     "metadata": {},
     "output_type": "execute_result"
    }
   ],
   "source": [
    "con.execute(\"SELECT * from population limit 2\").fetchall()"
   ]
  },
  {
   "cell_type": "code",
   "execution_count": 11,
   "metadata": {},
   "outputs": [
    {
     "name": "stdout",
     "output_type": "stream",
     "text": [
      "┌──────────────┐\n",
      "│ count_star() │\n",
      "│    int64     │\n",
      "├──────────────┤\n",
      "│          227 │\n",
      "└──────────────┘\n",
      "\n"
     ]
    }
   ],
   "source": [
    "population.count(\"*\").show()"
   ]
  },
  {
   "cell_type": "code",
   "execution_count": 12,
   "metadata": {},
   "outputs": [],
   "source": [
    "population_table = con.table(\"population\")"
   ]
  },
  {
   "cell_type": "code",
   "execution_count": 14,
   "metadata": {},
   "outputs": [
    {
     "name": "stdout",
     "output_type": "stream",
     "text": [
      "┌────────────────────┬─────────────────────────────────────┬────────────┬────────────────┬────────────────────────────┬──────────────────────────────┬───────────────┬────────────────────────────────────┬────────────────────┬──────────────┬───────────────────┬────────────┬───────────┬───────────┬─────────┬───────────┬───────────┬─────────────┬──────────┬─────────┐\n",
      "│      Country       │               Region                │ Population │ Area (sq. mi.) │ Pop. Density (per sq. mi.) │ Coastline (coast/area ratio) │ Net migration │ Infant mortality (per 1000 births) │ GDP ($ per capita) │ Literacy (%) │ Phones (per 1000) │ Arable (%) │ Crops (%) │ Other (%) │ Climate │ Birthrate │ Deathrate │ Agriculture │ Industry │ Service │\n",
      "│      varchar       │               varchar               │   int64    │     int64      │          varchar           │           varchar            │    varchar    │              varchar               │       int64        │   varchar    │      varchar      │  varchar   │  varchar  │  varchar  │ varchar │  varchar  │  varchar  │   varchar   │ varchar  │ varchar │\n",
      "├────────────────────┼─────────────────────────────────────┼────────────┼────────────────┼────────────────────────────┼──────────────────────────────┼───────────────┼────────────────────────────────────┼────────────────────┼──────────────┼───────────────────┼────────────┼───────────┼───────────┼─────────┼───────────┼───────────┼─────────────┼──────────┼─────────┤\n",
      "│ Afghanistan        │ ASIA (EX. NEAR EAST)                │   31056997 │         647500 │ 48,0                       │ 0,00                         │ 23,06         │ 163,07                             │                700 │ 36,0         │ 3,2               │ 12,13      │ 0,22      │ 87,65     │ 1       │ 46,6      │ 20,34     │ 0,38        │ 0,24     │ 0,38    │\n",
      "│ Albania            │ EASTERN EUROPE                      │    3581655 │          28748 │ 124,6                      │ 1,26                         │ -4,93         │ 21,52                              │               4500 │ 86,5         │ 71,2              │ 21,09      │ 4,42      │ 74,49     │ 3       │ 15,11     │ 5,22      │ 0,232       │ 0,188    │ 0,579   │\n",
      "│ Algeria            │ NORTHERN AFRICA                     │   32930091 │        2381740 │ 13,8                       │ 0,04                         │ -0,39         │ 31                                 │               6000 │ 70,0         │ 78,1              │ 3,22       │ 0,25      │ 96,53     │ 1       │ 17,14     │ 4,61      │ 0,101       │ 0,6      │ 0,298   │\n",
      "│ American Samoa     │ OCEANIA                             │      57794 │            199 │ 290,4                      │ 58,29                        │ -20,71        │ 9,27                               │               8000 │ 97,0         │ 259,5             │ 10         │ 15        │ 75        │ 2       │ 22,46     │ 3,27      │ NULL        │ NULL     │ NULL    │\n",
      "│ Andorra            │ WESTERN EUROPE                      │      71201 │            468 │ 152,1                      │ 0,00                         │ 6,6           │ 4,05                               │              19000 │ 100,0        │ 497,2             │ 2,22       │ 0         │ 97,78     │ 3       │ 8,71      │ 6,25      │ NULL        │ NULL     │ NULL    │\n",
      "│ Angola             │ SUB-SAHARAN AFRICA                  │   12127071 │        1246700 │ 9,7                        │ 0,13                         │ 0             │ 191,19                             │               1900 │ 42,0         │ 7,8               │ 2,41       │ 0,24      │ 97,35     │ NULL    │ 45,11     │ 24,2      │ 0,096       │ 0,658    │ 0,246   │\n",
      "│ Anguilla           │ LATIN AMER. & CARIB                 │      13477 │            102 │ 132,1                      │ 59,80                        │ 10,76         │ 21,03                              │               8600 │ 95,0         │ 460,0             │ 0          │ 0         │ 100       │ 2       │ 14,17     │ 5,34      │ 0,04        │ 0,18     │ 0,78    │\n",
      "│ Antigua & Barbuda  │ LATIN AMER. & CARIB                 │      69108 │            443 │ 156,0                      │ 34,54                        │ -6,15         │ 19,46                              │              11000 │ 89,0         │ 549,9             │ 18,18      │ 4,55      │ 77,27     │ 2       │ 16,93     │ 5,37      │ 0,038       │ 0,22     │ 0,743   │\n",
      "│ Argentina          │ LATIN AMER. & CARIB                 │   39921833 │        2766890 │ 14,4                       │ 0,18                         │ 0,61          │ 15,18                              │              11200 │ 97,1         │ 220,4             │ 12,31      │ 0,48      │ 87,21     │ 3       │ 16,73     │ 7,55      │ 0,095       │ 0,358    │ 0,547   │\n",
      "│ Armenia            │ C.W. OF IND. STATES                 │    2976372 │          29800 │ 99,9                       │ 0,00                         │ -6,47         │ 23,28                              │               3500 │ 98,6         │ 195,7             │ 17,55      │ 2,3       │ 80,15     │ 4       │ 12,07     │ 8,23      │ 0,239       │ 0,343    │ 0,418   │\n",
      "│    ·               │          ·                          │        ·   │            ·   │  ·                         │  ·                           │ ·             │   ·                                │                 ·  │  ·           │  ·                │  ·         │  ·        │   ·       │ ·       │   ·       │  ·        │  ·          │  ·       │  ·      │\n",
      "│    ·               │          ·                          │        ·   │            ·   │  ·                         │  ·                           │ ·             │   ·                                │                 ·  │  ·           │  ·                │  ·         │  ·        │   ·       │ ·       │   ·       │  ·        │  ·          │  ·       │  ·      │\n",
      "│    ·               │          ·                          │        ·   │            ·   │  ·                         │  ·                           │ ·             │   ·                                │                 ·  │  ·           │  ·                │  ·         │  ·        │   ·       │ ·       │   ·       │  ·        │  ·          │  ·       │  ·      │\n",
      "│ Vanuatu            │ OCEANIA                             │     208869 │          12200 │ 17,1                       │ 20,72                        │ 0             │ 55,16                              │               2900 │ 53,0         │ 32,6              │ 2,46       │ 7,38      │ 90,16     │ 2       │ 22,72     │ 7,82      │ 0,26        │ 0,12     │ 0,62    │\n",
      "│ Venezuela          │ LATIN AMER. & CARIB                 │   25730435 │         912050 │ 28,2                       │ 0,31                         │ -0,04         │ 22,2                               │               4800 │ 93,4         │ 140,1             │ 2,95       │ 0,92      │ 96,13     │ 2       │ 18,71     │ 4,92      │ 0,04        │ 0,419    │ 0,541   │\n",
      "│ Vietnam            │ ASIA (EX. NEAR EAST)                │   84402966 │         329560 │ 256,1                      │ 1,05                         │ -0,45         │ 25,95                              │               2500 │ 90,3         │ 187,7             │ 19,97      │ 5,95      │ 74,08     │ 2       │ 16,86     │ 6,22      │ 0,209       │ 0,41     │ 0,381   │\n",
      "│ Virgin Islands     │ LATIN AMER. & CARIB                 │     108605 │           1910 │ 56,9                       │ 9,84                         │ -8,94         │ 8,03                               │              17200 │ NULL         │ 652,8             │ 11,76      │ 2,94      │ 85,3      │ 2       │ 13,96     │ 6,43      │ 0,01        │ 0,19     │ 0,8     │\n",
      "│ Wallis and Futuna  │ OCEANIA                             │      16025 │            274 │ 58,5                       │ 47,08                        │ NULL          │ NULL                               │               3700 │ 50,0         │ 118,6             │ 5          │ 25        │ 70        │ 2       │ NULL      │ NULL      │ NULL        │ NULL     │ NULL    │\n",
      "│ West Bank          │ NEAR EAST                           │    2460492 │           5860 │ 419,9                      │ 0,00                         │ 2,98          │ 19,62                              │                800 │ NULL         │ 145,2             │ 16,9       │ 18,97     │ 64,13     │ 3       │ 31,67     │ 3,92      │ 0,09        │ 0,28     │ 0,63    │\n",
      "│ Western Sahara     │ NORTHERN AFRICA                     │     273008 │         266000 │ 1,0                        │ 0,42                         │ NULL          │ NULL                               │               NULL │ NULL         │ NULL              │ 0,02       │ 0         │ 99,98     │ 1       │ NULL      │ NULL      │ NULL        │ NULL     │ 0,4     │\n",
      "│ Yemen              │ NEAR EAST                           │   21456188 │         527970 │ 40,6                       │ 0,36                         │ 0             │ 61,5                               │                800 │ 50,2         │ 37,2              │ 2,78       │ 0,24      │ 96,98     │ 1       │ 42,89     │ 8,3       │ 0,135       │ 0,472    │ 0,393   │\n",
      "│ Zambia             │ SUB-SAHARAN AFRICA                  │   11502010 │         752614 │ 15,3                       │ 0,00                         │ 0             │ 88,29                              │                800 │ 80,6         │ 8,2               │ 7,08       │ 0,03      │ 92,9      │ 2       │ 41        │ 19,93     │ 0,22        │ 0,29     │ 0,489   │\n",
      "│ Zimbabwe           │ SUB-SAHARAN AFRICA                  │   12236805 │         390580 │ 31,3                       │ 0,00                         │ 0             │ 67,69                              │               1900 │ 90,7         │ 26,8              │ 8,32       │ 0,34      │ 91,34     │ 2       │ 28,01     │ 21,84     │ 0,179       │ 0,243    │ 0,579   │\n",
      "├────────────────────┴─────────────────────────────────────┴────────────┴────────────────┴────────────────────────────┴──────────────────────────────┴───────────────┴────────────────────────────────────┴────────────────────┴──────────────┴───────────────────┴────────────┴───────────┴───────────┴─────────┴───────────┴───────────┴─────────────┴──────────┴─────────┤\n",
      "│ 227 rows (20 shown)                                                                                                                                                                                                                                                                                                                                            20 columns │\n",
      "└───────────────────────────────────────────────────────────────────────────────────────────────────────────────────────────────────────────────────────────────────────────────────────────────────────────────────────────────────────────────────────────────────────────────────────────────────────────────────────────────────────────────────────────────────────────┘\n",
      "\n"
     ]
    }
   ],
   "source": [
    "population_table.show()"
   ]
  },
  {
   "cell_type": "code",
   "execution_count": 26,
   "metadata": {},
   "outputs": [
    {
     "name": "stdout",
     "output_type": "stream",
     "text": [
      "┌─────────────────────────────────────┬────────────┐\n",
      "│               Region                │ total_pop  │\n",
      "│               varchar               │   int128   │\n",
      "├─────────────────────────────────────┼────────────┤\n",
      "│ ASIA (EX. NEAR EAST)                │ 3687982236 │\n",
      "│ SUB-SAHARAN AFRICA                  │  749437000 │\n",
      "│ LATIN AMER. & CARIB                 │  561824599 │\n",
      "│ WESTERN EUROPE                      │  396339998 │\n",
      "│ NORTHERN AMERICA                    │  331672307 │\n",
      "│ C.W. OF IND. STATES                 │  280081548 │\n",
      "│ NEAR EAST                           │  195068377 │\n",
      "│ NORTHERN AFRICA                     │  161407133 │\n",
      "│ EASTERN EUROPE                      │  119914717 │\n",
      "│ OCEANIA                             │   33131662 │\n",
      "│ BALTICS                             │    7184974 │\n",
      "├─────────────────────────────────────┴────────────┤\n",
      "│ 11 rows                                2 columns │\n",
      "└──────────────────────────────────────────────────┘\n",
      "\n"
     ]
    }
   ],
   "source": [
    "population_table.aggregate(\"Region, sum(Population) as total_pop\").order(\"total_pop DESC\").show()"
   ]
  },
  {
   "cell_type": "code",
   "execution_count": 23,
   "metadata": {},
   "outputs": [
    {
     "name": "stdout",
     "output_type": "stream",
     "text": [
      "┌────────────────┬────────────┐\n",
      "│    Country     │ Population │\n",
      "│    varchar     │   int64    │\n",
      "├────────────────┼────────────┤\n",
      "│ Bangladesh     │  147365352 │\n",
      "│ Brazil         │  188078227 │\n",
      "│ China          │ 1313973713 │\n",
      "│ India          │ 1095351995 │\n",
      "│ Indonesia      │  245452739 │\n",
      "│ Japan          │  127463611 │\n",
      "│ Mexico         │  107449525 │\n",
      "│ Nigeria        │  131859731 │\n",
      "│ Pakistan       │  165803560 │\n",
      "│ Russia         │  142893540 │\n",
      "│ United States  │  298444215 │\n",
      "├────────────────┴────────────┤\n",
      "│ 11 rows           2 columns │\n",
      "└─────────────────────────────┘\n",
      "\n"
     ]
    }
   ],
   "source": [
    "population_table.filter(\"Population > 100000000\").project(\"Country\", \"Population\").show()"
   ]
  },
  {
   "cell_type": "code",
   "execution_count": 24,
   "metadata": {},
   "outputs": [],
   "source": [
    "over_100m = population_table.filter(\"Population > 100000000\")"
   ]
  },
  {
   "cell_type": "code",
   "execution_count": 28,
   "metadata": {},
   "outputs": [
    {
     "name": "stdout",
     "output_type": "stream",
     "text": [
      "┌────────────────┬─────────────────────────────────────┬────────────┬────────────────┬────────────────────────────┬──────────────────────────────┬───────────────┬────────────────────────────────────┬────────────────────┬──────────────┬───────────────────┬────────────┬───────────┬───────────┬─────────┬───────────┬───────────┬─────────────┬──────────┬─────────┐\n",
      "│    Country     │               Region                │ Population │ Area (sq. mi.) │ Pop. Density (per sq. mi.) │ Coastline (coast/area ratio) │ Net migration │ Infant mortality (per 1000 births) │ GDP ($ per capita) │ Literacy (%) │ Phones (per 1000) │ Arable (%) │ Crops (%) │ Other (%) │ Climate │ Birthrate │ Deathrate │ Agriculture │ Industry │ Service │\n",
      "│    varchar     │               varchar               │   int64    │     int64      │          varchar           │           varchar            │    varchar    │              varchar               │       int64        │   varchar    │      varchar      │  varchar   │  varchar  │  varchar  │ varchar │  varchar  │  varchar  │   varchar   │ varchar  │ varchar │\n",
      "├────────────────┼─────────────────────────────────────┼────────────┼────────────────┼────────────────────────────┼──────────────────────────────┼───────────────┼────────────────────────────────────┼────────────────────┼──────────────┼───────────────────┼────────────┼───────────┼───────────┼─────────┼───────────┼───────────┼─────────────┼──────────┼─────────┤\n",
      "│ Japan          │ ASIA (EX. NEAR EAST)                │  127463611 │         377835 │ 337,4                      │ 7,87                         │ 0             │ 3,26                               │              28200 │ 99,0         │ 461,2             │ 12,19      │ 0,96      │ 86,85     │ 3       │ 9,37      │ 9,16      │ 0,017       │ 0,258    │ 0,725   │\n",
      "│ United States  │ NORTHERN AMERICA                    │  298444215 │        9631420 │ 31,0                       │ 0,21                         │ 3,41          │ 6,5                                │              37800 │ 97,0         │ 898,0             │ 19,13      │ 0,22      │ 80,65     │ 3       │ 14,14     │ 8,26      │ 0,01        │ 0,204    │ 0,787   │\n",
      "└────────────────┴─────────────────────────────────────┴────────────┴────────────────┴────────────────────────────┴──────────────────────────────┴───────────────┴────────────────────────────────────┴────────────────────┴──────────────┴───────────────────┴────────────┴───────────┴───────────┴─────────┴───────────┴───────────┴─────────────┴──────────┴─────────┘\n",
      "\n"
     ]
    }
   ],
   "source": [
    "over_100m.filter('\"GDP ($ per capita)\" > 10000').show()"
   ]
  },
  {
   "cell_type": "code",
   "execution_count": 29,
   "metadata": {},
   "outputs": [
    {
     "name": "stdout",
     "output_type": "stream",
     "text": [
      "┌──────────────┐\n",
      "│ count_star() │\n",
      "│    int64     │\n",
      "├──────────────┤\n",
      "│            2 │\n",
      "└──────────────┘\n",
      "\n"
     ]
    }
   ],
   "source": [
    "over_100m.filter('\"GDP ($ per capita)\" > 10000').count(\"*\").show()"
   ]
  },
  {
   "cell_type": "code",
   "execution_count": 32,
   "metadata": {},
   "outputs": [
    {
     "name": "stdout",
     "output_type": "stream",
     "text": [
      "┌─────────────────────────────────────┬───────────┬──────────────┐\n",
      "│               Region                │ total_pop │ count_star() │\n",
      "│               varchar               │  int128   │    int64     │\n",
      "├─────────────────────────────────────┼───────────┼──────────────┤\n",
      "│ SUB-SAHARAN AFRICA                  │ 617577269 │           50 │\n",
      "│ ASIA (EX. NEAR EAST)                │ 592571266 │           22 │\n",
      "│ WESTERN EUROPE                      │ 396339998 │           28 │\n",
      "│ LATIN AMER. & CARIB                 │ 266296847 │           43 │\n",
      "│ NEAR EAST                           │ 195068377 │           16 │\n",
      "│ NORTHERN AFRICA                     │ 161407133 │            6 │\n",
      "│ C.W. OF IND. STATES                 │ 137188008 │           11 │\n",
      "│ EASTERN EUROPE                      │ 119914717 │           12 │\n",
      "│ NORTHERN AMERICA                    │  33228092 │            4 │\n",
      "│ OCEANIA                             │  33131662 │           21 │\n",
      "│ BALTICS                             │   7184974 │            3 │\n",
      "├─────────────────────────────────────┴───────────┴──────────────┤\n",
      "│ 11 rows                                              3 columns │\n",
      "└────────────────────────────────────────────────────────────────┘\n",
      "\n"
     ]
    }
   ],
   "source": [
    "population_table.except_(over_100m).aggregate(\"Region, sum(Population) as total_pop, count(*)\").order(\"total_pop DESC\").show()"
   ]
  },
  {
   "cell_type": "code",
   "execution_count": null,
   "metadata": {},
   "outputs": [],
   "source": []
  },
  {
   "cell_type": "code",
   "execution_count": 33,
   "metadata": {},
   "outputs": [],
   "source": [
    "africa = population_table.filter(\"Region ~ '.*AFRICA.*'\")"
   ]
  },
  {
   "cell_type": "code",
   "execution_count": 34,
   "metadata": {},
   "outputs": [
    {
     "name": "stdout",
     "output_type": "stream",
     "text": [
      "┌──────────┬─────────────────────────────────────┬────────────┬────────────────┬────────────────────────────┬──────────────────────────────┬───────────────┬────────────────────────────────────┬────────────────────┬──────────────┬───────────────────┬────────────┬───────────┬───────────┬─────────┬───────────┬───────────┬─────────────┬──────────┬─────────┐\n",
      "│ Country  │               Region                │ Population │ Area (sq. mi.) │ Pop. Density (per sq. mi.) │ Coastline (coast/area ratio) │ Net migration │ Infant mortality (per 1000 births) │ GDP ($ per capita) │ Literacy (%) │ Phones (per 1000) │ Arable (%) │ Crops (%) │ Other (%) │ Climate │ Birthrate │ Deathrate │ Agriculture │ Industry │ Service │\n",
      "│ varchar  │               varchar               │   int64    │     int64      │          varchar           │           varchar            │    varchar    │              varchar               │       int64        │   varchar    │      varchar      │  varchar   │  varchar  │  varchar  │ varchar │  varchar  │  varchar  │   varchar   │ varchar  │ varchar │\n",
      "├──────────┼─────────────────────────────────────┼────────────┼────────────────┼────────────────────────────┼──────────────────────────────┼───────────────┼────────────────────────────────────┼────────────────────┼──────────────┼───────────────────┼────────────┼───────────┼───────────┼─────────┼───────────┼───────────┼─────────────┼──────────┼─────────┤\n",
      "│ Nigeria  │ SUB-SAHARAN AFRICA                  │  131859731 │         923768 │ 142,7                      │ 0,09                         │ 0,26          │ 98,8                               │                900 │ 68,0         │ 9,3               │ 31,29      │ 2,96      │ 65,75     │ 1,5     │ 40,43     │ 16,94     │ 0,269       │ 0,487    │ 0,244   │\n",
      "└──────────┴─────────────────────────────────────┴────────────┴────────────────┴────────────────────────────┴──────────────────────────────┴───────────────┴────────────────────────────────────┴────────────────────┴──────────────┴───────────────────┴────────────┴───────────┴───────────┴─────────┴───────────┴───────────┴─────────────┴──────────┴─────────┘\n",
      "\n"
     ]
    }
   ],
   "source": [
    "africa.intersect(over_100m).show()"
   ]
  }
 ],
 "metadata": {
  "kernelspec": {
   "display_name": ".venv",
   "language": "python",
   "name": "python3"
  },
  "language_info": {
   "codemirror_mode": {
    "name": "ipython",
    "version": 3
   },
   "file_extension": ".py",
   "mimetype": "text/x-python",
   "name": "python",
   "nbconvert_exporter": "python",
   "pygments_lexer": "ipython3",
   "version": "3.10.0"
  }
 },
 "nbformat": 4,
 "nbformat_minor": 2
}
