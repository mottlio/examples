{
 "cells": [
  {
   "cell_type": "code",
   "execution_count": 4,
   "metadata": {},
   "outputs": [],
   "source": [
    "import pandas as pd\n",
    "import duckdb"
   ]
  },
  {
   "cell_type": "code",
   "execution_count": 5,
   "metadata": {},
   "outputs": [],
   "source": [
    "people = pd.DataFrame({\n",
    "    'name': ['Alice', 'Bob', 'Charlie'],\n",
    "    'age': [24, 25, 26],\n",
    "    'city': ['New York', 'San Francisco', 'Los Angeles']\n",
    "})"
   ]
  },
  {
   "cell_type": "code",
   "execution_count": 7,
   "metadata": {},
   "outputs": [
    {
     "data": {
      "text/plain": [
       "┌─────────┬───────┬───────────────┐\n",
       "│  name   │  age  │     city      │\n",
       "│ varchar │ int64 │    varchar    │\n",
       "├─────────┼───────┼───────────────┤\n",
       "│ Alice   │    24 │ New York      │\n",
       "│ Bob     │    25 │ San Francisco │\n",
       "│ Charlie │    26 │ Los Angeles   │\n",
       "└─────────┴───────┴───────────────┘"
      ]
     },
     "execution_count": 7,
     "metadata": {},
     "output_type": "execute_result"
    }
   ],
   "source": [
    "duckdb.sql(\"from people\")"
   ]
  },
  {
   "cell_type": "code",
   "execution_count": 11,
   "metadata": {},
   "outputs": [],
   "source": [
    "params = {\"city\": \"San Francisco\"}\n",
    "sf_df = duckdb.execute(\"\"\"select * from people where city = $city\"\"\", params).fetchdf()"
   ]
  },
  {
   "cell_type": "code",
   "execution_count": 12,
   "metadata": {},
   "outputs": [],
   "source": [
    "no_sf_df = duckdb.sql(\"from people\").filter(\"city <> 'San Francisco'\").fetchdf()"
   ]
  },
  {
   "cell_type": "code",
   "execution_count": 29,
   "metadata": {},
   "outputs": [],
   "source": [
    "#User defined functions\n",
    "def add_one(x:int) -> int:\n",
    "    return x + 1\n",
    "\n",
    "def remove_spaces(field:str) -> str:\n",
    "    if field:\n",
    "        return field.lstrip().rstrip()\n",
    "    else:\n",
    "        return field\n",
    "    \n",
    "def add_michal(greeting:str) -> str:\n",
    "    return greeting + \" Michal!\""
   ]
  },
  {
   "cell_type": "code",
   "execution_count": 19,
   "metadata": {},
   "outputs": [],
   "source": [
    "con = duckdb.connect(database=':memory:')"
   ]
  },
  {
   "cell_type": "code",
   "execution_count": 31,
   "metadata": {},
   "outputs": [
    {
     "data": {
      "text/plain": [
       "<duckdb.duckdb.DuckDBPyConnection at 0x10f3a3230>"
      ]
     },
     "execution_count": 31,
     "metadata": {},
     "output_type": "execute_result"
    }
   ],
   "source": [
    "#Register with duckdb\n",
    "\n",
    "#con.create_function('add_one', add_one)\n",
    "#con.create_function(\"remove_spaces\", remove_spaces)\n",
    "con.create_function(\"add_michal\", add_michal)"
   ]
  },
  {
   "cell_type": "code",
   "execution_count": 32,
   "metadata": {},
   "outputs": [
    {
     "data": {
      "text/plain": [
       "┌───────────────┬───────────────┬────────────┬─────────────────┬─────────────┐\n",
       "│ function_name │ function_type │ parameters │ parameter_types │ return_type │\n",
       "│    varchar    │    varchar    │ varchar[]  │    varchar[]    │   varchar   │\n",
       "├───────────────┼───────────────┼────────────┼─────────────────┼─────────────┤\n",
       "│ add_michal    │ scalar        │ [col0]     │ [VARCHAR]       │ VARCHAR     │\n",
       "└───────────────┴───────────────┴────────────┴─────────────────┴─────────────┘"
      ]
     },
     "execution_count": 32,
     "metadata": {},
     "output_type": "execute_result"
    }
   ],
   "source": [
    "con.sql(\"\"\"SELECT function_name, function_type, parameters, parameter_types, return_type from duckdb_functions() where function_name = 'add_michal'\"\"\")"
   ]
  },
  {
   "cell_type": "code",
   "execution_count": null,
   "metadata": {},
   "outputs": [],
   "source": []
  },
  {
   "cell_type": "code",
   "execution_count": 27,
   "metadata": {},
   "outputs": [
    {
     "data": {
      "text/plain": [
       "┌───────────────────────────────────┐\n",
       "│ length(remove_spaces('    foo ')) │\n",
       "│               int64               │\n",
       "├───────────────────────────────────┤\n",
       "│                                 3 │\n",
       "└───────────────────────────────────┘"
      ]
     },
     "execution_count": 27,
     "metadata": {},
     "output_type": "execute_result"
    }
   ],
   "source": [
    "con.sql(\"select length(remove_spaces('    foo '))\")"
   ]
  },
  {
   "cell_type": "code",
   "execution_count": 28,
   "metadata": {},
   "outputs": [
    {
     "data": {
      "text/plain": [
       "┌────────────┐\n",
       "│ add_one(2) │\n",
       "│   int64    │\n",
       "├────────────┤\n",
       "│          3 │\n",
       "└────────────┘"
      ]
     },
     "execution_count": 28,
     "metadata": {},
     "output_type": "execute_result"
    }
   ],
   "source": [
    "con.sql(\"select add_one(2)\")"
   ]
  },
  {
   "cell_type": "code",
   "execution_count": 33,
   "metadata": {},
   "outputs": [
    {
     "data": {
      "text/plain": [
       "┌──────────────────┐\n",
       "│ add_michal('Yo') │\n",
       "│     varchar      │\n",
       "├──────────────────┤\n",
       "│ Yo Michal!       │\n",
       "└──────────────────┘"
      ]
     },
     "execution_count": 33,
     "metadata": {},
     "output_type": "execute_result"
    }
   ],
   "source": [
    "con.sql(\"select add_michal('Yo')\")"
   ]
  },
  {
   "cell_type": "code",
   "execution_count": 36,
   "metadata": {},
   "outputs": [
    {
     "data": {
      "text/plain": [
       "<duckdb.duckdb.DuckDBPyConnection at 0x10f3a3230>"
      ]
     },
     "execution_count": 36,
     "metadata": {},
     "output_type": "execute_result"
    }
   ],
   "source": [
    "import polars\n",
    "con.execute(\"INSTALL httpfs\")\n",
    "con.execute(\"LOAD httpfs\")"
   ]
  },
  {
   "cell_type": "code",
   "execution_count": 37,
   "metadata": {},
   "outputs": [],
   "source": [
    "population = con.read_csv(\"https://bit.ly/3KoiZR0\")"
   ]
  },
  {
   "cell_type": "code",
   "execution_count": 38,
   "metadata": {},
   "outputs": [],
   "source": [
    "population_table = con.table(\"population\")"
   ]
  },
  {
   "cell_type": "markdown",
   "metadata": {},
   "source": [
    "Convert relation to Polars"
   ]
  },
  {
   "cell_type": "code",
   "execution_count": 39,
   "metadata": {},
   "outputs": [
    {
     "data": {
      "text/html": [
       "<div><style>\n",
       ".dataframe > thead > tr,\n",
       ".dataframe > tbody > tr {\n",
       "  text-align: right;\n",
       "  white-space: pre-wrap;\n",
       "}\n",
       "</style>\n",
       "<small>shape: (5, 20)</small><table border=\"1\" class=\"dataframe\"><thead><tr><th>Country</th><th>Region</th><th>Population</th><th>Area (sq. mi.)</th><th>Pop. Density (per sq. mi.)</th><th>Coastline (coast/area ratio)</th><th>Net migration</th><th>Infant mortality (per 1000 births)</th><th>GDP ($ per capita)</th><th>Literacy (%)</th><th>Phones (per 1000)</th><th>Arable (%)</th><th>Crops (%)</th><th>Other (%)</th><th>Climate</th><th>Birthrate</th><th>Deathrate</th><th>Agriculture</th><th>Industry</th><th>Service</th></tr><tr><td>str</td><td>str</td><td>i64</td><td>i64</td><td>str</td><td>str</td><td>str</td><td>str</td><td>i64</td><td>str</td><td>str</td><td>str</td><td>str</td><td>str</td><td>str</td><td>str</td><td>str</td><td>str</td><td>str</td><td>str</td></tr></thead><tbody><tr><td>&quot;Afghanistan &quot;</td><td>&quot;ASIA (EX. NEAR EAST)&nbsp;&nbsp;&nbsp;&nbsp;&nbsp;&nbsp;&nbsp;&nbsp;&nbsp;&quot;</td><td>31056997</td><td>647500</td><td>&quot;48,0&quot;</td><td>&quot;0,00&quot;</td><td>&quot;23,06&quot;</td><td>&quot;163,07&quot;</td><td>700</td><td>&quot;36,0&quot;</td><td>&quot;3,2&quot;</td><td>&quot;12,13&quot;</td><td>&quot;0,22&quot;</td><td>&quot;87,65&quot;</td><td>&quot;1&quot;</td><td>&quot;46,6&quot;</td><td>&quot;20,34&quot;</td><td>&quot;0,38&quot;</td><td>&quot;0,24&quot;</td><td>&quot;0,38&quot;</td></tr><tr><td>&quot;Albania &quot;</td><td>&quot;EASTERN EUROPE&nbsp;&nbsp;&nbsp;&nbsp;&nbsp;&nbsp;&nbsp;&nbsp;&nbsp;&nbsp;&nbsp;&nbsp;&nbsp;&nbsp;&nbsp;&nbsp;…</td><td>3581655</td><td>28748</td><td>&quot;124,6&quot;</td><td>&quot;1,26&quot;</td><td>&quot;-4,93&quot;</td><td>&quot;21,52&quot;</td><td>4500</td><td>&quot;86,5&quot;</td><td>&quot;71,2&quot;</td><td>&quot;21,09&quot;</td><td>&quot;4,42&quot;</td><td>&quot;74,49&quot;</td><td>&quot;3&quot;</td><td>&quot;15,11&quot;</td><td>&quot;5,22&quot;</td><td>&quot;0,232&quot;</td><td>&quot;0,188&quot;</td><td>&quot;0,579&quot;</td></tr><tr><td>&quot;Algeria &quot;</td><td>&quot;NORTHERN AFRICA&nbsp;&nbsp;&nbsp;&nbsp;&nbsp;&nbsp;&nbsp;&nbsp;&nbsp;&nbsp;&nbsp;&nbsp;&nbsp;&nbsp;&nbsp;…</td><td>32930091</td><td>2381740</td><td>&quot;13,8&quot;</td><td>&quot;0,04&quot;</td><td>&quot;-0,39&quot;</td><td>&quot;31&quot;</td><td>6000</td><td>&quot;70,0&quot;</td><td>&quot;78,1&quot;</td><td>&quot;3,22&quot;</td><td>&quot;0,25&quot;</td><td>&quot;96,53&quot;</td><td>&quot;1&quot;</td><td>&quot;17,14&quot;</td><td>&quot;4,61&quot;</td><td>&quot;0,101&quot;</td><td>&quot;0,6&quot;</td><td>&quot;0,298&quot;</td></tr><tr><td>&quot;American Samoa &quot;</td><td>&quot;OCEANIA&nbsp;&nbsp;&nbsp;&nbsp;&nbsp;&nbsp;&nbsp;&nbsp;&nbsp;&nbsp;&nbsp;&nbsp;&nbsp;&nbsp;&nbsp;&nbsp;&nbsp;&nbsp;&nbsp;&nbsp;&nbsp;&nbsp;&nbsp;…</td><td>57794</td><td>199</td><td>&quot;290,4&quot;</td><td>&quot;58,29&quot;</td><td>&quot;-20,71&quot;</td><td>&quot;9,27&quot;</td><td>8000</td><td>&quot;97,0&quot;</td><td>&quot;259,5&quot;</td><td>&quot;10&quot;</td><td>&quot;15&quot;</td><td>&quot;75&quot;</td><td>&quot;2&quot;</td><td>&quot;22,46&quot;</td><td>&quot;3,27&quot;</td><td>null</td><td>null</td><td>null</td></tr><tr><td>&quot;Andorra &quot;</td><td>&quot;WESTERN EUROPE&nbsp;&nbsp;&nbsp;&nbsp;&nbsp;&nbsp;&nbsp;&nbsp;&nbsp;&nbsp;&nbsp;&nbsp;&nbsp;&nbsp;&nbsp;&nbsp;…</td><td>71201</td><td>468</td><td>&quot;152,1&quot;</td><td>&quot;0,00&quot;</td><td>&quot;6,6&quot;</td><td>&quot;4,05&quot;</td><td>19000</td><td>&quot;100,0&quot;</td><td>&quot;497,2&quot;</td><td>&quot;2,22&quot;</td><td>&quot;0&quot;</td><td>&quot;97,78&quot;</td><td>&quot;3&quot;</td><td>&quot;8,71&quot;</td><td>&quot;6,25&quot;</td><td>null</td><td>null</td><td>null</td></tr></tbody></table></div>"
      ],
      "text/plain": [
       "shape: (5, 20)\n",
       "┌────────────┬────────────┬───────────┬───────────┬───┬───────────┬───────────┬──────────┬─────────┐\n",
       "│ Country    ┆ Region     ┆ Populatio ┆ Area (sq. ┆ … ┆ Deathrate ┆ Agricultu ┆ Industry ┆ Service │\n",
       "│ ---        ┆ ---        ┆ n         ┆ mi.)      ┆   ┆ ---       ┆ re        ┆ ---      ┆ ---     │\n",
       "│ str        ┆ str        ┆ ---       ┆ ---       ┆   ┆ str       ┆ ---       ┆ str      ┆ str     │\n",
       "│            ┆            ┆ i64       ┆ i64       ┆   ┆           ┆ str       ┆          ┆         │\n",
       "╞════════════╪════════════╪═══════════╪═══════════╪═══╪═══════════╪═══════════╪══════════╪═════════╡\n",
       "│ Afghanista ┆ ASIA (EX.  ┆ 31056997  ┆ 647500    ┆ … ┆ 20,34     ┆ 0,38      ┆ 0,24     ┆ 0,38    │\n",
       "│ n          ┆ NEAR EAST) ┆           ┆           ┆   ┆           ┆           ┆          ┆         │\n",
       "│ Albania    ┆ EASTERN    ┆ 3581655   ┆ 28748     ┆ … ┆ 5,22      ┆ 0,232     ┆ 0,188    ┆ 0,579   │\n",
       "│            ┆ EUROPE     ┆           ┆           ┆   ┆           ┆           ┆          ┆         │\n",
       "│            ┆ …          ┆           ┆           ┆   ┆           ┆           ┆          ┆         │\n",
       "│ Algeria    ┆ NORTHERN   ┆ 32930091  ┆ 2381740   ┆ … ┆ 4,61      ┆ 0,101     ┆ 0,6      ┆ 0,298   │\n",
       "│            ┆ AFRICA     ┆           ┆           ┆   ┆           ┆           ┆          ┆         │\n",
       "│            ┆ …          ┆           ┆           ┆   ┆           ┆           ┆          ┆         │\n",
       "│ American   ┆ OCEANIA    ┆ 57794     ┆ 199       ┆ … ┆ 3,27      ┆ null      ┆ null     ┆ null    │\n",
       "│ Samoa      ┆ …          ┆           ┆           ┆   ┆           ┆           ┆          ┆         │\n",
       "│ Andorra    ┆ WESTERN    ┆ 71201     ┆ 468       ┆ … ┆ 6,25      ┆ null      ┆ null     ┆ null    │\n",
       "│            ┆ EUROPE     ┆           ┆           ┆   ┆           ┆           ┆          ┆         │\n",
       "│            ┆ …          ┆           ┆           ┆   ┆           ┆           ┆          ┆         │\n",
       "└────────────┴────────────┴───────────┴───────────┴───┴───────────┴───────────┴──────────┴─────────┘"
      ]
     },
     "execution_count": 39,
     "metadata": {},
     "output_type": "execute_result"
    }
   ],
   "source": [
    "population_table.limit(5).pl()"
   ]
  },
  {
   "cell_type": "code",
   "execution_count": 40,
   "metadata": {},
   "outputs": [],
   "source": [
    "arrow_table = population_table.to_arrow_table()"
   ]
  }
 ],
 "metadata": {
  "kernelspec": {
   "display_name": ".venv",
   "language": "python",
   "name": "python3"
  },
  "language_info": {
   "codemirror_mode": {
    "name": "ipython",
    "version": 3
   },
   "file_extension": ".py",
   "mimetype": "text/x-python",
   "name": "python",
   "nbconvert_exporter": "python",
   "pygments_lexer": "ipython3",
   "version": "3.10.0"
  }
 },
 "nbformat": 4,
 "nbformat_minor": 2
}
